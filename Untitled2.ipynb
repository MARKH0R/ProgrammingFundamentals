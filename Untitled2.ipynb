{
 "cells": [
  {
   "cell_type": "code",
   "execution_count": null,
   "metadata": {},
   "outputs": [],
   "source": [
    "x=232\n",
    "x/=11\n",
    "x*=3\n",
    "x+=12\n",
    "x-=2"
   ]
  },
  {
   "cell_type": "code",
   "execution_count": null,
   "metadata": {},
   "outputs": [],
   "source": [
    "print (x\n",
    "      )"
   ]
  },
  {
   "cell_type": "code",
   "execution_count": null,
   "metadata": {},
   "outputs": [],
   "source": [
    "\n",
    "def getcheck(mask= input (\"enter your answer in True or False:\\t  \"),ID_card = input (\"enter your answer in True or False:\\t  \"),Dressing = input (\"enter your answer in True or False:\\t  \")):\n",
    "    \n",
    "    if mask== True:\n",
    "        if ID_card == True:\n",
    "            if Dressing == True:\n",
    "                print (\"\\t\\t\\tpass let this enter in universty \\n \\t \\tthank you for your coprate\")\n",
    "            else:\n",
    "                print (\"your dressing is not proper\")\n",
    "        else :\n",
    "            print (\"Your ID CARD is missinng \\n bring it with you \\n thank you\")\n",
    "    else :\n",
    "        print (\"sorry your mask is missing \\n \\\"NO MASK? NO ENTRY!\\\" \\n bring it with you\")\n",
    "            \n",
    "            \n",
    "        \n",
    "    return getcheck()\n",
    "print (getcheck)"
   ]
  },
  {
   "cell_type": "code",
   "execution_count": null,
   "metadata": {},
   "outputs": [],
   "source": [
    "mask= input (\"enter your answer in True or False:\\t  \")\n",
    "ID_card = input (\"enter your answer in True or False:\\t  \")\n",
    "Dressing = input (\"enter your answer in True or False:\\t  \")\n",
    "if "
   ]
  },
  {
   "cell_type": "code",
   "execution_count": null,
   "metadata": {},
   "outputs": [],
   "source": [
    "### YOUR CODE FOR chocolatePrice() FUNCTION GOES HERE ###\n",
    "def chocolatePrice(ali_budget,bashir_budget):\n",
    "\n",
    "    if type(ali_budget)==str or type(bashir_budget)==str:\n",
    "        return \"Not Possible\"\n",
    "    elif ali_budget==0 and bashir_budget==0:\n",
    "        return \"Not Possible\"\n",
    "    elif ali_budget > bashir_budget:\n",
    "        smaller = bashir_budget\n",
    "    else:\n",
    "        smaller = ali_budget\n",
    "    \n",
    "    for i in range(1, smaller+1):\n",
    "        if((ali_budget% i == 0) and (bashir_budget% i == 0)):\n",
    "            z= i        \n",
    "    \n",
    "    return z\n",
    "    \n",
    "\n",
    "\n",
    "#### End OF MARKER\n",
    "\n",
    "\n",
    "\n",
    "\n",
    "\n",
    "### YOUR CODE FOR calculateProfit() FUNCTION GOES HERE ###\n",
    "def calculateProfit(ali_budget,bashir_budget):\n",
    "    a=ali_budget-int(ali_budget)\n",
    "   \n",
    "    if a >=0.5:\n",
    "        ali_budget = int(ali_budget+1) \n",
    "    else :\n",
    "        ali_budget = int (ali_budget)\n",
    "    \n",
    "    b=bashir_budget-int(bashir_budget)\n",
    "    if b>=0.5:\n",
    "        bashir_budget = int (bashir_budget+1)\n",
    "    else:\n",
    "        bashir_budget = int (bashir_budget)\n",
    "       \n",
    "\n",
    "\n",
    "\n",
    "    if type(ali_budget)==str or type(bashir_budget)==str:\n",
    "        return \"Not Possible\"\n",
    "    elif ali_budget==0 or bashir_budget==0:\n",
    "        return \"Not Possible\"\n",
    "    elif ali_budget<0 or bashir_budget<0:\n",
    "        return \"Not Possible\"\n",
    "    elif ali_budget>bashir_budget:\n",
    "\n",
    "        x = ali_budget*(3/2)-ali_budget\n",
    "        y = bashir_budget*2-bashir_budget\n",
    "\n",
    "        return x , y\n",
    "    else :\n",
    "\n",
    "        x = ali_budget*2-ali_budget\n",
    "        y = bashir_budget*(3/2)-bashir_budget\n",
    "        return x , y\n",
    "    \n",
    "\n",
    "\n",
    "\n",
    "    return x\n",
    "\n",
    "\n",
    "\n",
    "\n",
    "#### End OF MARKER\n",
    "\n",
    "\n"
   ]
  },
  {
   "cell_type": "code",
   "execution_count": null,
   "metadata": {},
   "outputs": [],
   "source": [
    "calculateProfit(1, \"2\") == \"Not Possible\""
   ]
  },
  {
   "cell_type": "code",
   "execution_count": null,
   "metadata": {},
   "outputs": [],
   "source": [
    "max (3,5)"
   ]
  },
  {
   "cell_type": "code",
   "execution_count": null,
   "metadata": {},
   "outputs": [],
   "source": [
    "help (max)"
   ]
  },
  {
   "cell_type": "code",
   "execution_count": null,
   "metadata": {},
   "outputs": [],
   "source": [
    "paragraph = \"\"\"With a single iterable argument, return its biggest item. The\n",
    "    default keyword-only argument specifies an object to return if\n",
    "    the provided iterable is empty.\n",
    "    With two or more arguments, return the largest argument.\"\"\"\n",
    "word = paragraph.split(\" \")"
   ]
  },
  {
   "cell_type": "code",
   "execution_count": null,
   "metadata": {},
   "outputs": [],
   "source": [
    "print(word)"
   ]
  },
  {
   "cell_type": "code",
   "execution_count": null,
   "metadata": {},
   "outputs": [],
   "source": [
    "paragraph"
   ]
  },
  {
   "cell_type": "code",
   "execution_count": null,
   "metadata": {},
   "outputs": [],
   "source": [
    " help (list)"
   ]
  },
  {
   "cell_type": "code",
   "execution_count": null,
   "metadata": {},
   "outputs": [],
   "source": [
    "a= [1, 3, 5]\n",
    "b= [2, 4, 6]\n",
    "c=a+b    #Create a new list c which combines the numbers from both lists (orderis unimportant).\n",
    "\n",
    "def max_list(c):\n",
    "    fi=c[0]\n",
    "    for i in c:\n",
    "        if fi<i:\n",
    "            maxnum=i\n",
    "    return maxnum\n",
    "print (\"maximum number in the list : \",max_list(c))\n",
    "c.insert(3,42)\n",
    "\"Insert fourth element in list c 42\"\n",
    "for i in range(7,10) :# Append7,8and9to the end of c.\n",
    "    c.append(i)\n",
    "print(c[0:2])   # Print the first two elements of c.\n",
    "print (b[-1])    # Print the last element of b without using its length.\n",
    "def list_length(a):\n",
    "    count=0\n",
    "    for i in a:          # Print the length of a\n",
    "        count+=i\n",
    "    print( count)\n"
   ]
  },
  {
   "cell_type": "code",
   "execution_count": null,
   "metadata": {},
   "outputs": [],
   "source": [
    "c"
   ]
  },
  {
   "cell_type": "code",
   "execution_count": null,
   "metadata": {},
   "outputs": [],
   "source": []
  },
  {
   "cell_type": "code",
   "execution_count": null,
   "metadata": {},
   "outputs": [],
   "source": [
    "def list_length(a):\n",
    "    count=0\n",
    "    for i in a:          # Print the length of a\n",
    "        count+=1\n",
    "    return count\n",
    "list_length([1, 3, 5,4,6])"
   ]
  },
  {
   "cell_type": "code",
   "execution_count": null,
   "metadata": {},
   "outputs": [],
   "source": []
  },
  {
   "cell_type": "code",
   "execution_count": null,
   "metadata": {},
   "outputs": [],
   "source": [
    "def unique_value(x):\n",
    "    m=[]\n",
    "    \n",
    "    \n",
    "    for i in x:\n",
    "        \n",
    "        if i not in  m:\n",
    "            m.append(i)\n",
    "        \n",
    "    return m\n",
    "        "
   ]
  },
  {
   "cell_type": "code",
   "execution_count": null,
   "metadata": {},
   "outputs": [],
   "source": [
    "def buble_sort(z):\n",
    "    while True:\n",
    "        for i in range(len(z)11):\n",
    "            if z[i]>z[i+1]:\n",
    "                z[i] , z[i+1] =z[i+1] ,z[i]\n",
    "        \n",
    "                \n",
    "        \n",
    "    \n",
    "mylist= [1,5,3,2,4]\n",
    "print(buble_sort(mylist))"
   ]
  },
  {
   "cell_type": "code",
   "execution_count": null,
   "metadata": {},
   "outputs": [],
   "source": [
    "companyList= [ \n",
    "    {\n",
    "        \"Company Name\": \"Roshan\",\n",
    "        \"Company Motto\": \"Roshan began operations in 2003 in an environment where there was virtually no telecommunications infrastructure.\",\n",
    "        \"City\": \"Kabul\",\n",
    "        \"Country\": \"Afghanistan\",\n",
    "        \"Contact\": {\n",
    "            \"Phone Number\": \"+93 79 997 1333\",\n",
    "            \"Email\": \"roshanca@roshan.af\",\n",
    "            \"Website\": \"http://www.roshan.af/\"\n",
    "        },\n",
    "        \"Social Accounts\": {\n",
    "            \"Facebook\": \"https://www.facebook.com/RoshanConnects\",\n",
    "            \"Twitter\": \"https://www.twitter.com/roshanconnects\",\n",
    "            \"LinkedIn\": \"https://www.linkedin.com/company/roshan\"\n",
    "        }\n",
    "    }, \n",
    "    {\n",
    "        \"Company Name\": \"Gjirafa\",\n",
    "        \"Company Motto\": \"Gjirafa is a video content and e-commerce platform for the Balkans built on top of an Albanian language specialized search engine.\",\n",
    "        \"City\": \"Tirana\",\n",
    "        \"Country\": \"Albania\",\n",
    "        \"Contact\": {\n",
    "            \"Phone Number\": \"37744991206\",\n",
    "            \"Email\": \"info@gjirafa.com\",\n",
    "            \"Website\": \"http://www.gjirafa.com/\"\n",
    "        },\n",
    "        \"Social Accounts\": {\n",
    "            \"Facebook\": \"http://www.facebook.com/gjirafa\",\n",
    "            \"Twitter\": \"https://twitter.com/gjirafashqip\",\n",
    "            \"LinkedIn\": \"https://www.linkedin.com/company/gjirafa-inc-\"\n",
    "        }\n",
    "    },\n",
    "    {\n",
    "        \"Company Name\": \"Shqiperia Com\",\n",
    "        \"Company Motto\": \"ShqiperiaCom primarily provides web developing services and consultancy in the region of Balkan.\",\n",
    "        \"City\": \"Tirana\",\n",
    "        \"Country\": \"Albania\",\n",
    "        \"Contact\": {\n",
    "            \"Phone Number\": \"35542403910\",\n",
    "            \"Email\": \"mandi@shqiperia.com\",\n",
    "            \"Website\": \"http://www.shqiperiacom.info\"\n",
    "        },\n",
    "        \"Social Accounts\": {\n",
    "            \"Facebook\": \"https://www.facebook.com/shqiperiacom\",\n",
    "            \"Twitter\": \"http://twitter.com/ShqiperiaCom\",\n",
    "            \"LinkedIn\": \"https://www.linkedin.com/company/shqiperiacom\"\n",
    "        }\n",
    "    }\n",
    "]\n",
    "\n",
    "# Your code for get_countries goes here\n",
    "def get_countries (companyList):\n",
    "    if companyList==[] :\n",
    "        return {}\n",
    "    b=0\n",
    "    a = 0\n",
    "    counting=0\n",
    "    count =0\n",
    "    for i in companyList:\n",
    "        if i[\"Country\"]   and i[\"Company Name\"]:\n",
    "            a= i[\"Country\"]\n",
    "            counting += 1\n",
    "        elif i[\"Country\"] and i[\"Company Name\"]:\n",
    "            b= i[\"Country\"]\n",
    "            count += 1\n",
    "    return {a:counting,b:count}\n",
    "\n",
    "print(get_countries (companyList))"
   ]
  },
  {
   "cell_type": "code",
   "execution_count": null,
   "metadata": {},
   "outputs": [],
   "source": [
    "location = {'city': 'Peshawar', 'country': 'Pakistan'}\n",
    "def get_companies(companyList, location):\n",
    "    \n",
    "    city_list= []\n",
    "    \n",
    "    for i in companyList:\n",
    "        if location[\"city\"] == i[\"City\"]:\n",
    "            city_list.append(i[\"Company Name\"])\n",
    "    if city_list ==0:\n",
    "        return None\n",
    "    return city_list\n",
    "    \n",
    "    \n",
    "    \n",
    "\n",
    "print (get_companies(companyList, location) == None)"
   ]
  },
  {
   "cell_type": "code",
   "execution_count": null,
   "metadata": {},
   "outputs": [],
   "source": [
    "\n",
    "# Your code for get_countries goes here\n",
    "def get_countries(companies):\n",
    "    mydict = {}\n",
    "    for company in companies:\n",
    "        country = company['Country']\n",
    "        if country in mydict:\n",
    "            mydict[country] += 1\n",
    "        else:\n",
    "            mydict[country] = 1\n",
    "    return mydict\n",
    "print(get_countries([companyList[0]]) == {'Afghanistan': 1})\n",
    "print(get_countries([companyList[1]]) == {'Albania': 1})\n",
    "print(get_countries (companyList) == {'Afghanistan': 1, 'Albania': 2})"
   ]
  },
  {
   "cell_type": "code",
   "execution_count": 27,
   "metadata": {},
   "outputs": [
    {
     "name": "stdout",
     "output_type": "stream",
     "text": [
      "ans\n",
      "nna\n",
      "mir\n",
      "ael\n",
      "Ed\n",
      "san\n",
      "ice\n",
      "Jo\n"
     ]
    }
   ],
   "source": [
    "directory = '/home/armghan/Downloads'\n",
    "name = 'names.txt'\n",
    "import os \n",
    "filename = os.path.join(directory, name)\n",
    "f = open(filename, 'r')\n",
    "\n",
    "for line in f:\n",
    "    line.split(\" \")\n",
    "    print (line[-4:-1])\n",
    "    \n",
    "f.close() "
   ]
  },
  {
   "cell_type": "code",
   "execution_count": 76,
   "metadata": {},
   "outputs": [
    {
     "name": "stdout",
     "output_type": "stream",
     "text": [
      "443\n"
     ]
    }
   ],
   "source": [
    "import os \n",
    "\"\"\"\n",
    "A. Write a function named text_count that takes in a directory and a filename. It\n",
    "should then read this file from the directory and return the number of words which\n",
    "are in this file.\n",
    "\"\"\"\n",
    "\n",
    "directory = '/home/armghan/Downloads/assignment41'\n",
    "name = 'essay.txt'\n",
    "\n",
    "filename = os.path.join(directory, name)\n",
    "count=0\n",
    "\n",
    "f=open(filename,\"r\")\n",
    "words=0    \n",
    "d = f.read().split()\n",
    "\n",
    "for i in d:\n",
    "    count+=1\n",
    "print (count)\n",
    "\n",
    "\n",
    "    \n",
    "f.close()"
   ]
  },
  {
   "cell_type": "code",
   "execution_count": null,
   "metadata": {},
   "outputs": [],
   "source": [
    "directory = 'Downloads'\n",
    "name = 'names.txt'\n",
    "rollno=\"name_roll.txt\"\n",
    "import os \n",
    "filename = os.path.join(directory, name)\n",
    "secfilename=os.path.join(directory,rollno)\n",
    "e_list=[]\n",
    "f= open (filename,\"r\") \n",
    "\n",
    "j= open(secfilename,'w') \n",
    "for i in f:\n",
    "    v= input(\"enter roll no for :\")\n",
    "    z = \"enter roll no for \"+i+\":\"+ v + \"\\n\"\n",
    "    j.write(z )\n",
    "\n",
    "\n",
    "f.close()\n",
    "j.close()\n"
   ]
  },
  {
   "cell_type": "code",
   "execution_count": 13,
   "metadata": {},
   "outputs": [
    {
     "name": "stdout",
     "output_type": "stream",
     "text": [
      "Jo\n",
      " 3\n"
     ]
    }
   ],
   "source": [
    "C. Modify the function so that it can take in an optional fourth parameter. If this\n",
    "parameter is set to True, the function should count the number of characters in\n",
    "the file.# give this function ulr of file as string and name of flie with extension\n",
    "\n",
    "directory = '/home/armghan/Downloads'\n",
    "name = 'names.txt'\n",
    "import os \n",
    "filename = os.path.join(directory, name)\n",
    "f = open(filename, 'r')\n",
    "l=[]\n",
    "for i in f:\n",
    "    i.split(\" \")\n",
    "    l.append(len(i))\n",
    "\n",
    "print (str(i),q)\n"
   ]
  },
  {
   "cell_type": "code",
   "execution_count": null,
   "metadata": {},
   "outputs": [],
   "source": [
    "directory = '/home/armghan/Downloads'\n",
    "name = 'names.txt'\n",
    "import os \n",
    "filename = os.path.join(directory, name)\n",
    "def cheackname(filename):\n",
    "    x=input(\"enter your name :\\t\")\n",
    "    \n",
    "    \n",
    "    f = open(filename, 'r')\n",
    "    for i in f:\n",
    "        if x in f == True:\n",
    "            return True \n",
    "        else:\n",
    "            return False\n",
    "cheackname (filename)      "
   ]
  },
  {
   "cell_type": "code",
   "execution_count": 15,
   "metadata": {},
   "outputs": [
    {
     "name": "stdout",
     "output_type": "stream",
     "text": [
      "enter your name :\tHans\n"
     ]
    },
    {
     "data": {
      "text/plain": [
       "False"
      ]
     },
     "execution_count": 15,
     "metadata": {},
     "output_type": "execute_result"
    }
   ],
   "source": [
    "directory = '/home/armghan/Downloads'\n",
    "name = 'names.txt'\n",
    "import os \n",
    "filename = os.path.join(directory, name)\n",
    "def cheackname(filename):\n",
    "    x=input(\"enter your name :\\t\")\n",
    "    \n",
    "    \n",
    "    f = open(filename, 'r')\n",
    "    for i in f:\n",
    "        \n",
    "        if x == i:\n",
    "            return True\n",
    "        else:\n",
    "            return False\n",
    "cheackname (filename)  print (d)print (d)print (d)print (d)"
   ]
  },
  {
   "cell_type": "code",
   "execution_count": 75,
   "metadata": {},
   "outputs": [
    {
     "name": "stdout",
     "output_type": "stream",
     "text": [
      "2632\n"
     ]
    }
   ],
   "source": [
    "import os \n",
    "\n",
    "\n",
    "\"\"\"\n",
    "C. Modify the function so that it can take in an optional fourth parameter. If this\n",
    "parameter is set to True, the function should count the number of characters in\n",
    "the file.\n",
    "\"\"\"\n",
    "\n",
    "directory = '/home/armghan/Downloads/assignment41'\n",
    "name = 'essay.txt'\n",
    "\n",
    "filename = os.path.join(directory, name)\n",
    "count=0\n",
    "\n",
    "f=open(filename,\"r\")\n",
    "    \n",
    "x= f.read()\n",
    "\n",
    "for i in x:\n",
    "    count += len(i)\n",
    "        \n",
    "print (count)\n",
    "\n",
    "    \n",
    "f.close()"
   ]
  },
  {
   "cell_type": "code",
   "execution_count": 3,
   "metadata": {},
   "outputs": [
    {
     "name": "stdout",
     "output_type": "stream",
     "text": [
      "3\n"
     ]
    }
   ],
   "source": [
    "import os\n",
    "\n",
    "\"\"\"\n",
    "B. Modify the function so that it can take in an optional third parameter. If this\n",
    "parameter is set to True, the function should only count words which are all\n",
    "lowercase. You can use the “islower()” function to check if a word is in lowercase\n",
    "or not.\n",
    "\"\"\"\n",
    "\n",
    "directory = '/home/armghan'\n",
    "name = 'BILL.txt'\n",
    "\n",
    "filename = os.path.join(directory, name)\n",
    "count=0\n",
    "\n",
    "f=open(filename,\"w\")\n",
    "    \n",
    "x= f.write(\"Abc\")\n",
    "print (x)\n",
    "\n",
    "    \n",
    "    \n",
    "f.close()"
   ]
  },
  {
   "cell_type": "code",
   "execution_count": 126,
   "metadata": {},
   "outputs": [
    {
     "name": "stdout",
     "output_type": "stream",
     "text": [
      "enter numbers of lines : 2\n",
      "Write a title that summarizes the specific problem\n",
      "\n",
      "\n",
      "\n",
      "The title is the first thing potential answerers will see.\n",
      "\n"
     ]
    }
   ],
   "source": [
    "import os\n",
    "directory = '/home/armghan/Downloads/assignment41'\n",
    "name = 'essay.txt'\n",
    "link=\"/home/armghan/Downloads\"\n",
    "fname=\"dummy-out.txt\"\n",
    "lines=int (input(\"enter numbers of lines : \"))\n",
    "\n",
    "filename = os.path.join(directory, name)\n",
    "output_file=os.path.join(link,fname)\n",
    "f=open(filename,\"r\")\n",
    "\n",
    "of=open(output_file,\"w\")\n",
    "\n",
    "\n",
    "w=f.readlines()\n",
    "\n",
    "for i in w[0:lines+1]:\n",
    "    \n",
    "    print (i)\n",
    "    \n",
    "    of.write(i)\n",
    "    \n",
    "f.close()\n",
    "of.close()"
   ]
  },
  {
   "cell_type": "code",
   "execution_count": 10,
   "metadata": {},
   "outputs": [
    {
     "name": "stdout",
     "output_type": "stream",
     "text": [
      "enter numbers of lines : 2\n",
      "W\n",
      "r\n",
      "i\n"
     ]
    }
   ],
   "source": [
    "import os\n",
    "directory = '/home/armghan/Downloads/assignment41'\n",
    "name = 'essay.txt'\n",
    "link=\"/home/armghan/Downloads\"\n",
    "fname=\"dummy-out.txt\"\n",
    "lines=int (input(\"enter numbers of lines : \"))\n",
    "\n",
    "filename = os.path.join(directory, name)\n",
    "output_file=os.path.join(link,fname)\n",
    "f=open(filename,\"r\")\n",
    "\n",
    "of=open(output_file,\"w\")\n",
    "\n",
    "\n",
    "x = f.read()\n",
    "for i in x[0:lines+1]:\n",
    "    of.write(i)\n",
    "    print (i)"
   ]
  },
  {
   "cell_type": "code",
   "execution_count": 8,
   "metadata": {},
   "outputs": [],
   "source": [
    "def copy_lines(orignal_path, new_path, lines = 'empty'):\n",
    "    \n",
    "    \n",
    "    org_file = open(original_path,\"r\")\n",
    "    copied_file = open(new_path,\"w\")\n",
    "    x = org_file.read().split()\n",
    "\n",
    "    \n",
    "    for i in x[0:lines+1]:\n",
    "        copied_file.write(i)\n",
    "\n",
    "    org_file.close()\n",
    "    copied_file.close()"
   ]
  },
  {
   "cell_type": "code",
   "execution_count": 26,
   "metadata": {},
   "outputs": [
    {
     "name": "stdout",
     "output_type": "stream",
     "text": [
      "392\n"
     ]
    }
   ],
   "source": [
    "import os\n",
    "\n",
    "def text_count(directory,path,caps=False,char_count=False):\n",
    "    file=[]\n",
    "    filepath = os.path.join(directory,path)\n",
    "    essay = open(filepath,\"r\")\n",
    "    character_length=len(open(filepath,\"r\").read())\n",
    "    \n",
    "    \n",
    "    \n",
    "  \n",
    "    output = 0\n",
    "    if char_count == True:\n",
    "        output= character_length\n",
    "    elif caps == True:\n",
    "        \n",
    "        essay_file=essay.read().split()\n",
    "        \n",
    "        for b in essay_file:\n",
    "            if b.islower()==True:\n",
    "                output=output +1\n",
    "    else:\n",
    "        \n",
    "        for a in essay:\n",
    "            strp = a.strip()\n",
    "            file.append(strp.split(\" \"))\n",
    "        \n",
    "        for x in file:\n",
    "            for y in x:\n",
    "                if not y ==\"\":\n",
    "                    output=output +1\n",
    "    \n",
    "    return output\n",
    "    essay.close()\n",
    "print (text_count('/home/armghan/Downloads/assignment41','essay.txt',True,False))"
   ]
  },
  {
   "cell_type": "code",
   "execution_count": null,
   "metadata": {},
   "outputs": [],
   "source": []
  },
  {
   "cell_type": "code",
   "execution_count": 31,
   "metadata": {},
   "outputs": [
    {
     "name": "stdout",
     "output_type": "stream",
     "text": [
      "Welcom TO Macloren Restorent\n",
      "\t\t\t\tWhat would you like to order \n",
      "\n",
      "_________________________________________________________________________________\n",
      "|\t\tBURGER \t\t|\t|\tSTEAKS \t\t\t|\t|\n",
      "|-------------------------------|-------|------------------------------|--------|\n",
      "|\tZINGER BURGER\t\t| 230\t|\tARIZONA STEAK\t       | 650\t|\n",
      "|\tZINGER CHEESE BURGER\t| 260\t|(char grilled beef or chicken | \t|\n",
      "|\tTHAMES SPECIAL BURGER\t| 320\t|topped with spicy American    | \t|\n",
      "|\tBEEF BURGER\t\t| 400\t|sauce)\t\t\t\t|\t|\n",
      "|\tTOWER BURGER\t\t| 350\t|\tMASHROOM STEAK\t       | 650\t|\n",
      "|\tCHICKEN BURGER\t\t| 180\t|\tPEPPER STEAK\t       | 650\t|\n",
      "|\tCRISPY BURGER\t\t| 200\t|\tPOLO TUSCANY\t       | 650\t|\n",
      "---------------------------------------------------------------------------------\n",
      "\n",
      "\n",
      "\n",
      "Total: 0.0\n",
      "Select a Catagory \"Burger\" or \"Steak\" you want or enter 'done': done\n",
      "Thanks for coming\n"
     ]
    }
   ],
   "source": [
    "print (\"\"\"Welcom TO Macloren Restorent\\n\\t\\t\\t\\tWhat would you like to order \\n\"\"\")\n",
    "import os\n",
    "\n",
    "total = 0.0\n",
    "done= False\n",
    "n=True\n",
    "\n",
    "\n",
    "\n",
    "zinger_burger= 230\n",
    "zinger_cheese_burger=260\n",
    "themas_special_burger= 320\n",
    "beef_burger = 400 \n",
    "tower_burger =350\n",
    "chicken_burger = 180\n",
    "\n",
    "\n",
    "ARIZONA_STEAK= 650\n",
    "MASHROOM_STEAK =650\n",
    "PEPPER_STEAK = 650\n",
    "POLO_TUSCANY =650\n",
    "\n",
    "\n",
    "directory = '/home/armghan'\n",
    "name = 'MENU.txt'\n",
    "\n",
    "filename = os.path.join(directory, name)\n",
    "\n",
    "f=open(filename,\"r\")\n",
    "    \n",
    "x= f.read()\n",
    "print (x)\n",
    "    \n",
    "f.close()\n",
    "\n",
    "while  done==False:\n",
    "    print(\"Total:\", total);\n",
    "    Item = input(\"Select a Catagory \\\"Burger\\\" or \\\"Steak\\\" you want or enter 'done': \");\n",
    "    \n",
    "    \n",
    "    \n",
    "    if Item == \"Burger\":\n",
    "        \n",
    "        directory = '/home/armghan'\n",
    "        name = 'BURGER.txt'\n",
    "\n",
    "        burgerfile = os.path.join(directory, name)\n",
    "        \n",
    "\n",
    "        bf=open(burgerfile,\"r\")\n",
    "\n",
    "        x= bf.read()\n",
    "        print (x)\n",
    "\n",
    "\n",
    "\n",
    "        bf.close()\n",
    "        while n==True:\n",
    "            Item = input(\"Select a CATAGORY of BURGER or enter exit : \");\n",
    "            if Item == \"A\":\n",
    "                total += zinger_burger\n",
    "            elif Item == \"B\":\n",
    "                total += zinger_cheese_burger\n",
    "            elif Item == \"C\":\n",
    "                total += themas_special_burger\n",
    "            elif Item == \"D\":\n",
    "                total += beef_burger\n",
    "            elif Item == \"E\":\n",
    "                total += tower_burger\n",
    "            elif Item == \"F\":\n",
    "                total += chicken_burger\n",
    "            elif Item == \"exit\":\n",
    "                print(\"Final total of BURGER IS:\", total)\n",
    "                n=False\n",
    "\n",
    "        \n",
    "        \n",
    "    elif Item == \"Steak\":\n",
    "        \n",
    "        \n",
    "        directory = '/home/armghan'\n",
    "        name = 'STEAK.txt'\n",
    "\n",
    "        steakfile = os.path.join(directory, name)\n",
    "        \n",
    "\n",
    "        sf=open(steakfile,\"r\")\n",
    "\n",
    "        x= sf.read()\n",
    "        print (x)\n",
    "        sf.close()\n",
    "        x=False\n",
    "        while x==False:\n",
    "            item = input(\"Select a CATAGORY of STEAK or 'exit': \")\n",
    "            if item == \"A\":\n",
    "                total += ARIZONA_STEAK\n",
    "            elif item == \"B\":\n",
    "                total += MASHROOM_STEAK\n",
    "            elif item == \"C\":\n",
    "                total += PEPPER_STEAK\n",
    "            elif item == \"D\":\n",
    "                total += POLO_TUSCANY\n",
    "            elif item == \"exit\":\n",
    "                print(\"Final total of STEAK IS:\", total)\n",
    "                x =True\n",
    "       \n",
    "\n",
    "    elif Item == \"done\":\n",
    "        \n",
    "        directory = '/home/armghan'\n",
    "        name = 'BILL.txt'\n",
    "\n",
    "        filename = os.path.join(directory, name)\n",
    "        count=0\n",
    "\n",
    "        f=open(filename,\"w\")\n",
    "        q= \"\\t\\t\\t\\t____________________Your Total bill is____________________ \\n\\t\\t\\t\\t\\t\\t\\t\"+str(total)+\"$\\n\\t\\t\\t\\t\\t\\tThanks for coming\\n\"+\"\\t\\t\\t\\t   ----------Hope you like the meal.(>_<)----------\"\n",
    "        x= f.write(q)\n",
    "        \n",
    "        \n",
    "        f.close()\n",
    "        done =True\n"
   ]
  },
  {
   "cell_type": "code",
   "execution_count": null,
   "metadata": {},
   "outputs": [],
   "source": []
  }
 ],
 "metadata": {
  "kernelspec": {
   "display_name": "Python 3",
   "language": "python",
   "name": "python3"
  },
  "language_info": {
   "codemirror_mode": {
    "name": "ipython",
    "version": 3
   },
   "file_extension": ".py",
   "mimetype": "text/x-python",
   "name": "python",
   "nbconvert_exporter": "python",
   "pygments_lexer": "ipython3",
   "version": "3.8.3"
  }
 },
 "nbformat": 4,
 "nbformat_minor": 2
}
