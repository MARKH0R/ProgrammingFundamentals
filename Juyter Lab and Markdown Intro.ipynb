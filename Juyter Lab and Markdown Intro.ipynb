{
 "cells": [
  {
   "cell_type": "markdown",
   "metadata": {},
   "source": [
    "# INTRODUCTION\n",
    "\n",
    "This is a markdown cell. Markdown is a markup language with plain-text-formatting syntax. You can use markdown to format or beautify your simple text.\n",
    "\n",
    "## Headings\n",
    "For heading you can use # before your heading with a space. You can use headings from 1 - 6.\n",
    "\n",
    "## Heading #2\n",
    "### Heading #3\n",
    "###### Heading #6\n",
    "\n",
    "\n",
    "## Writing Latex Equations\n",
    "\n",
    "You can write your equations in Latex format using dollar sign $ x^2 $\n",
    "\n",
    "www.google.com\n",
    "\n",
    "You can add customised links using following format [my site](www.babyonbuggy.com)\n",
    "\n",
    "- unordered list\n",
    "\n",
    "1. ordered list\n",
    "\n",
    ">block qoues\n",
    "----\n",
    "*italics*\n",
    "\n",
    "**bold text**\n",
    "\n",
    "here is some `print(\"hello\")` inline code\n",
    "\n",
    "\n",
    "```\n",
    "print(\"Hello to the python world\")\n",
    "print(\"you did it\")\n",
    "\n",
    "```\n",
    "\n",
    "Press Shift + Enter to run the cell\n",
    "\n"
   ]
  },
  {
   "cell_type": "markdown",
   "metadata": {},
   "source": [
    "# JUPYTER SHORTCUTS\n",
    "\n",
    "- To go into command mode press Ctrl + M\n",
    "- To change the cell mode to Markdown press M\n",
    "- To change the cell mode to Code press Y\n",
    "- Press A to add a cell above \n",
    "- Press B to add a cell below\n",
    "- Press C to copy a cell\n",
    "- Press V to paste a cell\n",
    "- Press X to cut a cell\n",
    "- Press D twice to delete a cell\n",
    "- Press Z to undo\n",
    "- Press Shift + Z to redo\n",
    "- If things are getting complicated press 0 twice to restart the kernel\n",
    "- To switch between cells use up and down arrow keys\n"
   ]
  },
  {
   "cell_type": "code",
   "execution_count": 1,
   "metadata": {},
   "outputs": [],
   "source": [
    "x = 2"
   ]
  },
  {
   "cell_type": "code",
   "execution_count": 2,
   "metadata": {},
   "outputs": [
    {
     "data": {
      "text/plain": [
       "2"
      ]
     },
     "execution_count": 2,
     "metadata": {},
     "output_type": "execute_result"
    }
   ],
   "source": [
    "x\n"
   ]
  },
  {
   "cell_type": "code",
   "execution_count": 3,
   "metadata": {},
   "outputs": [
    {
     "name": "stdout",
     "output_type": "stream",
     "text": [
      "2\n"
     ]
    }
   ],
   "source": [
    "print(x)"
   ]
  },
  {
   "cell_type": "code",
   "execution_count": null,
   "metadata": {},
   "outputs": [],
   "source": []
  },
  {
   "cell_type": "code",
   "execution_count": null,
   "metadata": {},
   "outputs": [],
   "source": []
  }
 ],
 "metadata": {
  "kernelspec": {
   "display_name": "Python 3",
   "language": "python",
   "name": "python3"
  },
  "language_info": {
   "codemirror_mode": {
    "name": "ipython",
    "version": 3
   },
   "file_extension": ".py",
   "mimetype": "text/x-python",
   "name": "python",
   "nbconvert_exporter": "python",
   "pygments_lexer": "ipython3",
   "version": "3.7.6"
  }
 },
 "nbformat": 4,
 "nbformat_minor": 4
}
