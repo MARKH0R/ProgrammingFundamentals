{
 "cells": [
  {
   "cell_type": "code",
   "execution_count": 19,
   "metadata": {},
   "outputs": [
    {
     "name": "stdout",
     "output_type": "stream",
     "text": [
      "enter a number to find fibonacci series\t:8\n",
      "0 1\n",
      "1\n",
      "2\n",
      "3\n",
      "5\n",
      "8\n",
      "13\n",
      "21\n"
     ]
    }
   ],
   "source": [
    "x=int(input('enter a number to find fibonacci series\\t:' ))\n",
    "a=0\n",
    "b=1\n",
    "print (a,b)\n",
    "for i in range (1,x):\n",
    "    z=a+b\n",
    "    a=b\n",
    "    b=z\n",
    "    print (z)\n",
    "        \n",
    "        "
   ]
  },
  {
   "cell_type": "code",
   "execution_count": 1,
   "metadata": {},
   "outputs": [
    {
     "name": "stdout",
     "output_type": "stream",
     "text": [
      "([2, 4, 6, 8, 10, 12, 14, 16, 18, 20, 22, 24, 26, 28, 30, 32, 34, 36, 38, 40, 42, 44, 46, 48, 50, 52, 54, 56, 58, 60, 62, 64, 66, 68, 70, 72, 74, 76, 78, 80, 82, 84, 86, 88, 90, 92, 94, 96, 98, 100], [1, 3, 5, 7, 9, 11, 13, 15, 17, 19, 21, 23, 25, 27, 29, 31, 33, 35, 37, 39, 41, 43, 45, 47, 49, 51, 53, 55, 57, 59, 61, 63, 65, 67, 69, 71, 73, 75, 77, 79, 81, 83, 85, 87, 89, 91, 93, 95, 97, 99])\n"
     ]
    }
   ],
   "source": [
    "def fun(x):\n",
    "    a=[]\n",
    "    b=[]\n",
    "    c = []\n",
    "    for i in range(1,x+1):\n",
    "        if i%2==0:\n",
    "            a.append(i)\n",
    "        elif not(i%2==0):\n",
    "            b.append(i)\n",
    "    return a,b\n",
    " \n",
    "            \n",
    "print(fun(100)) "
   ]
  },
  {
   "cell_type": "code",
   "execution_count": 8,
   "metadata": {},
   "outputs": [],
   "source": [
    "\"\"\"\n",
    "Question 3:\n",
    "Write a function that takes as a parameter an integer (as a long value) and prints the\n",
    "number of odd, even, and zero digits in the long integer.\n",
    "\"\"\"\n",
    "def Snumber(a):\n",
    "    cout=0\n",
    "    count=0\n",
    "    Zcount=0\n",
    "    y=str(a)\n",
    "    for i in y:\n",
    "        if (int (i)%2==0 and not(int (i)==0)):\n",
    "            count+=1\n",
    "        elif (not(int (i)%2==0)):\n",
    "            cout+=1\n",
    "        elif (int (i)==0):\n",
    "            Zcount+=1\n",
    "    Q=\"number of odd digits are = \"+str(cout)+\" number of evendigits are = \"+str(count)+\" number of zero digits are = \"+str(Zcount)\n",
    "    return Q\n",
    "            \n",
    "    \n"
   ]
  },
  {
   "cell_type": "code",
   "execution_count": 12,
   "metadata": {},
   "outputs": [
    {
     "data": {
      "text/plain": [
       "'the number of times lowercase vowel appears = 8'"
      ]
     },
     "execution_count": 12,
     "metadata": {},
     "output_type": "execute_result"
    }
   ],
   "source": [
    "\"\"\"\n",
    "Question 1:\n",
    "Write a program that reads a string and outputs the number of times each lowercase a vowel\n",
    "appears in it. Your program must contain a function with one of its parameters as a string\n",
    "variable, and return the number of times each lowercase vowel appears in it. Also write a\n",
    "program to test your function. (Note that if str is a variable of type string, then str.at(i) returns the\n",
    "character at the ith position. The position of the first character is 0. Also, str.length() returns the\n",
    "length of the str, that is, the number of characters in str.)\n",
    "\"\"\"\n",
    "def lowercasevowel(STRING):\n",
    "    count=0\n",
    "    for i in STRING:\n",
    "        if i.islower()==True:\n",
    "            if (i ==\"a\" or i==\"e\" or i==\"i\" or i== 'o' or i==\"u\"):\n",
    "                count+=1\n",
    "    vowel=\"the number of times lowercase vowel appears = \"+str(count)   \n",
    "    return vowel\n"
   ]
  },
  {
   "cell_type": "code",
   "execution_count": 13,
   "metadata": {},
   "outputs": [
    {
     "ename": "SyntaxError",
     "evalue": "invalid syntax (<ipython-input-13-dbf602c51865>, line 8)",
     "output_type": "error",
     "traceback": [
      "\u001b[0;36m  File \u001b[0;32m\"<ipython-input-13-dbf602c51865>\"\u001b[0;36m, line \u001b[0;32m8\u001b[0m\n\u001b[0;31m    def\u001b[0m\n\u001b[0m        ^\u001b[0m\n\u001b[0;31mSyntaxError\u001b[0m\u001b[0;31m:\u001b[0m invalid syntax\n"
     ]
    }
   ],
   "source": [
    "\"\"\"\n",
    "Question 8:\n",
    "Write the definition of a function that takes as input three decimal numbers (e.g. a, b, c)\n",
    "and returns the first number multiplied by the second number to the power of third\n",
    "number i.e. returns (a*b)c.\n",
    "\"\"\"\n",
    "\n",
    "def "
   ]
  },
  {
   "cell_type": "code",
   "execution_count": 16,
   "metadata": {},
   "outputs": [
    {
     "name": "stdout",
     "output_type": "stream",
     "text": [
      "divisor of the number =  1\n",
      "divisor of the number =  2\n",
      "3  Not a divisors number\n",
      "divisor of the number =  4\n"
     ]
    }
   ],
   "source": [
    "def divisor_num(lst,number):\n",
    "    for i in lst:\n",
    "        if number%i==0:\n",
    "            print (\"divisor of the number = \",i)\n",
    "        else:\n",
    "            print (i,' Not a divisors number')\n",
    "divisor_num([1,2,3,4],8)"
   ]
  },
  {
   "cell_type": "code",
   "execution_count": 17,
   "metadata": {},
   "outputs": [],
   "source": [
    "def commonlst(a,b):\n",
    "    for i in a:\n",
    "        if i in b:\n",
    "            return True\n",
    "        else:\n",
    "            return False\n",
    "        "
   ]
  },
  {
   "cell_type": "code",
   "execution_count": 18,
   "metadata": {},
   "outputs": [
    {
     "ename": "SyntaxError",
     "evalue": "unexpected EOF while parsing (<ipython-input-18-c862de1fe46c>, line 8)",
     "output_type": "error",
     "traceback": [
      "\u001b[0;36m  File \u001b[0;32m\"<ipython-input-18-c862de1fe46c>\"\u001b[0;36m, line \u001b[0;32m8\u001b[0m\n\u001b[0;31m    \u001b[0m\n\u001b[0m    ^\u001b[0m\n\u001b[0;31mSyntaxError\u001b[0m\u001b[0;31m:\u001b[0m unexpected EOF while parsing\n"
     ]
    }
   ],
   "source": [
    "def reverslst(list):\n",
    "    start=0\n",
    "    end=0\n",
    "    it = len(list)//2\n",
    "    \n",
    "    for i in it:\n",
    "        \n",
    "        "
   ]
  },
  {
   "cell_type": "code",
   "execution_count": 19,
   "metadata": {},
   "outputs": [
    {
     "data": {
      "text/plain": [
       "34"
      ]
     },
     "execution_count": 19,
     "metadata": {},
     "output_type": "execute_result"
    }
   ],
   "source": [
    "def secoundmax(lst):\n",
    "    MV=lst[0]\n",
    "    SV=min (lst)\n",
    "    \n",
    "    for i in lst:\n",
    "        if i>MV:\n",
    "            MV=i\n",
    "        if i>SV and i<MV:\n",
    "            SV=i\n",
    "    return SV\n",
    "secoundmax([1,25,65,34])\n",
    "    "
   ]
  },
  {
   "cell_type": "code",
   "execution_count": 21,
   "metadata": {},
   "outputs": [
    {
     "data": {
      "text/plain": [
       "[2, 4, 6]"
      ]
     },
     "execution_count": 21,
     "metadata": {},
     "output_type": "execute_result"
    }
   ],
   "source": [
    "def oddindex(lst):\n",
    "    oddlst=[]\n",
    "    for i in range(0,len(lst)):\n",
    "        if i%2 !=0:\n",
    "            oddlst.append(lst[i])\n",
    "    return oddlst\n",
    "oddindex([1,2,3,4,5,6])"
   ]
  },
  {
   "cell_type": "code",
   "execution_count": 7,
   "metadata": {},
   "outputs": [
    {
     "name": "stdout",
     "output_type": "stream",
     "text": [
      "([89, 3, 21, 97], [0, 2, 3, 4], 4, ['Non prime number:', 24, 24, 24, 24, 24], ['index of non prime number:', 1, 1, 1, 1, 1])\n"
     ]
    }
   ],
   "source": [
    "def primenumberlist(lst):\n",
    "    count =0\n",
    "    primenumberlst=[]\n",
    "    indexlist=[]\n",
    "    nonprime=[\"Non prime number:\"]\n",
    "    nonprimeindex=[\"index of non prime number:\"]\n",
    "    for i in lst:\n",
    "        for j in range(0,len(lst)):\n",
    "            if i==0:\n",
    "                print (\"zero is not a prime number\")\n",
    "                nonprime.append(i)\n",
    "                q=lst.index(i)\n",
    "                nonprimeindex.append(q)\n",
    "                break\n",
    "            elif i==1:\n",
    "                print (\"One is not an prime number\")\n",
    "                nonprime.append[i]# appending the number in nonprime list\n",
    "                q=lst.index(i)#finding the index of number\n",
    "                nonprimeindex.append(q)#appending index of nonprime number\n",
    "                break\n",
    "            elif i%2==1:\n",
    "                count =count+1 #counting nuber of prime number in the given list\n",
    "                primenumberlst.append(i)\n",
    "                b=lst.index(i)\n",
    "                indexlist.append(b)\n",
    "                break\n",
    "            else:\n",
    "                nonprime.append(i)\n",
    "                q=lst.index(i)\n",
    "                nonprimeindex.append(q)\n",
    "                \n",
    "    return primenumberlst, indexlist, count, nonprime, nonprimeindex\n",
    "print (primenumberlist([89,24,3,21,97]))"
   ]
  },
  {
   "cell_type": "code",
   "execution_count": null,
   "metadata": {},
   "outputs": [],
   "source": []
  },
  {
   "cell_type": "code",
   "execution_count": null,
   "metadata": {},
   "outputs": [],
   "source": []
  }
 ],
 "metadata": {
  "kernelspec": {
   "display_name": "Python 3",
   "language": "python",
   "name": "python3"
  },
  "language_info": {
   "codemirror_mode": {
    "name": "ipython",
    "version": 3
   },
   "file_extension": ".py",
   "mimetype": "text/x-python",
   "name": "python",
   "nbconvert_exporter": "python",
   "pygments_lexer": "ipython3",
   "version": "3.8.3"
  }
 },
 "nbformat": 4,
 "nbformat_minor": 2
}
