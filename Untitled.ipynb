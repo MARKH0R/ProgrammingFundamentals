{
 "cells": [
  {
   "cell_type": "code",
   "execution_count": 16,
   "metadata": {},
   "outputs": [],
   "source": [
    "def even_odd(x):\n",
    "    if x%2==0:\n",
    "        return \"the number is even\"\n",
    "    else :\n",
    "        return \"number is odd\""
   ]
  },
  {
   "cell_type": "code",
   "execution_count": 17,
   "metadata": {},
   "outputs": [
    {
     "data": {
      "text/plain": [
       "'number is odd'"
      ]
     },
     "execution_count": 17,
     "metadata": {},
     "output_type": "execute_result"
    }
   ],
   "source": [
    "even_odd(3)"
   ]
  },
  {
   "cell_type": "code",
   "execution_count": 18,
   "metadata": {},
   "outputs": [
    {
     "data": {
      "text/plain": [
       "'the number is even'"
      ]
     },
     "execution_count": 18,
     "metadata": {},
     "output_type": "execute_result"
    }
   ],
   "source": [
    "even_odd(4)"
   ]
  },
  {
   "cell_type": "code",
   "execution_count": 19,
   "metadata": {},
   "outputs": [
    {
     "data": {
      "text/plain": [
       "'number is odd'"
      ]
     },
     "execution_count": 19,
     "metadata": {},
     "output_type": "execute_result"
    }
   ],
   "source": [
    "even_odd(7)"
   ]
  },
  {
   "cell_type": "code",
   "execution_count": 20,
   "metadata": {},
   "outputs": [],
   "source": [
    "def P_Nnumber(x):\n",
    "    if x>0:\n",
    "        return \"number is positive\"\n",
    "    elif x==0:\n",
    "        return \"nither positive nor negative\"\n",
    "    else:\n",
    "        return \"number is negative\"\n"
   ]
  },
  {
   "cell_type": "code",
   "execution_count": 21,
   "metadata": {},
   "outputs": [
    {
     "data": {
      "text/plain": [
       "'number is positive'"
      ]
     },
     "execution_count": 21,
     "metadata": {},
     "output_type": "execute_result"
    }
   ],
   "source": [
    "P_Nnumber(7654)"
   ]
  },
  {
   "cell_type": "code",
   "execution_count": 22,
   "metadata": {},
   "outputs": [
    {
     "data": {
      "text/plain": [
       "'number is negative'"
      ]
     },
     "execution_count": 22,
     "metadata": {},
     "output_type": "execute_result"
    }
   ],
   "source": [
    "P_Nnumber(-534)"
   ]
  },
  {
   "cell_type": "code",
   "execution_count": 30,
   "metadata": {},
   "outputs": [],
   "source": [
    "def differenceGandL(a,b):\n",
    "    if a>b:\n",
    "        return (a,\"is grater then\",b)\n",
    "    elif b>a:\n",
    "        return (b,\"is grater then\",a) \n",
    "    else:\n",
    "        return \"both numbers are equal\"\n",
    "    "
   ]
  },
  {
   "cell_type": "code",
   "execution_count": 31,
   "metadata": {},
   "outputs": [
    {
     "data": {
      "text/plain": [
       "(4, 'is grater then', 2)"
      ]
     },
     "execution_count": 31,
     "metadata": {},
     "output_type": "execute_result"
    }
   ],
   "source": [
    "differenceGandL(2,4)"
   ]
  },
  {
   "cell_type": "code",
   "execution_count": 3,
   "metadata": {},
   "outputs": [
    {
     "name": "stdout",
     "output_type": "stream",
     "text": [
      "None\n"
     ]
    }
   ],
   "source": [
    "pi =3.1415\n",
    "def area(x):\n",
    "    area=pi*pow(x,2)\n",
    "    \n",
    "    \n",
    "print (area(2))"
   ]
  },
  {
   "cell_type": "code",
   "execution_count": 6,
   "metadata": {},
   "outputs": [
    {
     "name": "stdout",
     "output_type": "stream",
     "text": [
      "1\n",
      "2\n",
      "3\n",
      "5\n",
      "8\n"
     ]
    }
   ],
   "source": [
    "c=1\n",
    "a=0;b=1\n",
    "while c<=5:\n",
    "    \n",
    "    x=a+b\n",
    "    a=b\n",
    "    b=x\n",
    "    \n",
    "    print (x)\n",
    "    \n",
    "    c+=1"
   ]
  },
  {
   "cell_type": "code",
   "execution_count": 5,
   "metadata": {},
   "outputs": [],
   "source": [
    "\n",
    "        "
   ]
  },
  {
   "cell_type": "code",
   "execution_count": null,
   "metadata": {},
   "outputs": [],
   "source": [
    "\n",
    "    while True:\n",
    "        var=input (\"press D to Deposit, W for withdraw or Q for quit:\")\t\n",
    "        if var==\"D\" :                \n",
    "\n",
    "            x= int (input(\"enter Deposit amount : \"))\n",
    "            print (\"D = \",x) \n",
    "            varsum = x+x \n",
    "        elif var== \"W\" :\n",
    "            y= int (input(\"enter withdraw amount : \"))\n",
    "            print (\"W = \",y)\n",
    "            add = varsum-y\n",
    "        elif var ==\"Q\":\n",
    "            break\n",
    "        "
   ]
  },
  {
   "cell_type": "code",
   "execution_count": 16,
   "metadata": {},
   "outputs": [
    {
     "name": "stdout",
     "output_type": "stream",
     "text": [
      "press D to Deposit, W for withdraw or Q for quit:Q\n"
     ]
    }
   ],
   "source": [
    "account_transaction()"
   ]
  },
  {
   "cell_type": "code",
   "execution_count": 1,
   "metadata": {},
   "outputs": [],
   "source": [
    "def armstrong_number(x):\n",
    "    while True:\n",
    "        print (\"enter a number:\\t\")\n",
    "        x =input()"
   ]
  },
  {
   "cell_type": "code",
   "execution_count": null,
   "metadata": {},
   "outputs": [],
   "source": []
  },
  {
   "cell_type": "code",
   "execution_count": 40,
   "metadata": {},
   "outputs": [
    {
     "name": "stdout",
     "output_type": "stream",
     "text": [
      "Welcome to Student Locker Program\n",
      "\n",
      "Lockers\n",
      "1,\n",
      "4,\n",
      "9,\n",
      "16,\n",
      "25,\n",
      "36,\n",
      "49,\n",
      "64,\n",
      "81,\n",
      "100,\n",
      "121,\n",
      "144,\n",
      "169,\n",
      "196,\n",
      "225,\n",
      "256,\n",
      "289,\n",
      "324,\n",
      "361,\n",
      "400,\n",
      "441,\n",
      "484,\n",
      "529,\n",
      "576,\n",
      "625,\n",
      "676,\n",
      "729,\n",
      "784,\n",
      "841,\n",
      "900,\n",
      "961,\n",
      " 31 \n"
     ]
    }
   ],
   "source": [
    "import math\n",
    "print(\"Welcome to Student Locker Program\")\n",
    "lockers=1000\n",
    "students=1000\n",
    "lockersOpen=int(math.sqrt(lockers))\n",
    "lockersClosed=lockers-lockersOpen\n",
    "\n",
    "resultLockerIsOpen={}\n",
    "print(\"\\nLockers\"),\n",
    "for a in range(1,lockers+1):\n",
    "    resultLockerIsOpen[a] = False;\n",
    "    for b in range (1,students+1):\n",
    "        if a%b == 0:\n",
    "            resultLockerIsOpen[a]= not resultLockerIsOpen[a]\n",
    "    if resultLockerIsOpen[a]:\n",
    "        print(\"{},\".format(a)),\n",
    "(\" {} \".format(lockersOpen, lockersClosed))"
   ]
  },
  {
   "cell_type": "code",
   "execution_count": 16,
   "metadata": {},
   "outputs": [],
   "source": [
    "### YOUR CODE FOR openLocks() FUNCTION GOES HERE ###\n",
    "def openLocks(number_of_lockers,number_of_students):\n",
    "    if number_of_students==0 or number_of_lockers==0:\n",
    "        return 0\n",
    "    elif number_of_students<0 or number_of_lockers<0 :\n",
    "        return \tNone\n",
    "    import math\n",
    "    \n",
    "    lockers=number_of_lockers\n",
    "    students=number_of_students\n",
    "    lockersOpen=int(math.sqrt(lockers))\n",
    "    lockersClosed=lockers-lockersOpen\n",
    "    \n",
    "    \n",
    "    \n",
    "    for a in range(1,lockers+1):\n",
    "        a = False;\n",
    "        for b in range (1,students+1):\n",
    "            if a%b == 0:\n",
    "                a= not a\n",
    "    lockersOpen = int(lockersOpen)    \n",
    "    return ( lockersOpen)\n",
    "### End OF MARKER\n",
    "\"\"\" \n",
    "If there are 100 lockers, there are\n",
    "100 people and each of the 100 goes through the hallway turning\n",
    "lockers that are multiples of their own number\n",
    "\n",
    "for example:-\n",
    "              person #\n",
    "            --------------------\n",
    "  locker #  1 2 3 4 5 6 7 8 9 10\n",
    "     1      +\n",
    "     2      + -\n",
    "     3      +   -\n",
    "     4      + -   +\n",
    "     5      +       -\n",
    "     6      + - +     -\n",
    "     7      +           -\n",
    "     8      + -   +       -\n",
    "     9      +   -           +\n",
    "    10      + -     +         -\n",
    "\n",
    "I used \"+\" to mean \"opened\" and \"-\" for \"closed\".\n",
    "\n",
    "Notice that each time a locker is \"touched\" it changes from open to \n",
    "closed or vice versa.  So in order to end up open, it has to be \n",
    "touched an odd number of times\n",
    "\"\"\"\n",
    "\n",
    "\n",
    "\n",
    "\n",
    "### YOUR CODE FOR mostTouchableLocker() FUNCTION GOES HERE ###\n",
    "def mostTouchableLocker(number_of_lockers,number_of_students):\n",
    "    if number_of_students==0 or number_of_lockers==0:\n",
    "        return 0\n",
    "\n",
    "\n",
    "\n",
    "#### End OF MARKER\n",
    "\n",
    "\n"
   ]
  },
  {
   "cell_type": "code",
   "execution_count": 17,
   "metadata": {},
   "outputs": [
    {
     "data": {
      "text/plain": [
       "3"
      ]
     },
     "execution_count": 17,
     "metadata": {},
     "output_type": "execute_result"
    }
   ],
   "source": [
    "openLocks(10,10)"
   ]
  },
  {
   "cell_type": "code",
   "execution_count": 2,
   "metadata": {},
   "outputs": [
    {
     "name": "stdout",
     "output_type": "stream",
     "text": [
      "None\n",
      "[100, 23, 10, 23]\n"
     ]
    }
   ],
   "source": [
    "l= [100,10,23]\n",
    "print (l.insert(1,23))\n",
    "print (l)"
   ]
  },
  {
   "cell_type": "code",
   "execution_count": 16,
   "metadata": {},
   "outputs": [
    {
     "name": "stdout",
     "output_type": "stream",
     "text": [
      "None\n"
     ]
    }
   ],
   "source": [
    "\n",
    "v = []\n",
    "for i in range(number_of_lockers):\n",
    "    v.append(0)\n",
    "for i in range(number):\n",
    "    if(i % 2 == 0):\n",
    "        v[i] = v[i] + 1"
   ]
  },
  {
   "cell_type": "code",
   "execution_count": 10,
   "metadata": {},
   "outputs": [
    {
     "data": {
      "text/plain": [
       "10"
      ]
     },
     "execution_count": 10,
     "metadata": {},
     "output_type": "execute_result"
    }
   ],
   "source": [
    "def mostTouchableLocker(number_of_lockers,number_of_students):\n",
    "    if number_of_students==0 or number_of_lockers==0:\n",
    "        return 0\n",
    "    lockers=[number_of_lockers]\n",
    "    for i in range (1, number_of_lockers):\n",
    "        lockers.append(0)\n",
    "    for j in  range (1, number_of_students):\n",
    "        if j%2==0:\n",
    "            lockers[i] = lockers[i] + 1\n",
    "    return max(lockers)    \n",
    "mostTouchableLocker(10,10)"
   ]
  },
  {
   "cell_type": "code",
   "execution_count": 9,
   "metadata": {},
   "outputs": [
    {
     "name": "stdout",
     "output_type": "stream",
     "text": [
      "\n",
      "        +-------------------------------------------+\n",
      "        | The Restaurant at the End of the Universe |\n",
      "        +---------------------------------+---------+\n",
      "        | A\tThe \"Big Boy\" Burger      | $16.99  |\n",
      "        +---------------------------------+---------+\n",
      "        | B\tPizza                     | $5.99   |\n",
      "        +---------------------------------+---------+\n",
      "        | C\tFrench Fries              | $19.99  |\n",
      "        +---------------------------------+---------+\n",
      "        | D\tNapkins with Chocolates   | $10.50  |\n",
      "        +---------------------------------+---------+\n",
      "        | E\tJuice Box                 | $89.01  |\n",
      "        +---------------------------------+---------+\n",
      "        | F\tTakeout                   | $18.99  |\n",
      "        +---------------------------------+---------+\n",
      "        \n",
      "Total: 0.0\n",
      "Select a Catagory you want or enter 'done': A\n",
      "\n",
      "        +-------------------------------------------+\n",
      "        | \t\t\tBURGER\t\t\t |\n",
      "        +---------------------------------+---------+\n",
      "        | A\t\tZINGER BURGER           | $230  |\n",
      "        +---------------------------------+---------+\n",
      "        | B\t\tZINGER CHEESE BURGER    | $260   |\n",
      "        +---------------------------------+---------+\n",
      "        | C\t\tTHAMES SPECIAL BURGER   | $320  |\n",
      "        +---------------------------------+---------+\n",
      "        | D\t\tBEEF BURGER             | $4000  |\n",
      "        +---------------------------------+---------+\n",
      "        | E\t\tTOWER BURGER            | $350  |\n",
      "        +---------------------------------+---------+\n",
      "        | F\t\tCHICKEN BURGER          | $180  |\n",
      "        +---------------------------------+---------+\n",
      "        \n",
      "Select a CATAGORY or enter exit : a\n",
      "Select a CATAGORY or enter exit : A\n",
      "Select a CATAGORY or enter exit : exit\n",
      "Final total: 230.0\n",
      "Total: 230.0\n",
      "Select a Catagory you want or enter 'done': B\n",
      "\n",
      "        +-------------------------------------------+\n",
      "        | \t\t\tPIZZA\t\t\t |\n",
      "        +---------------------------------+---------+\n",
      "        | A\t\tCHICAGO PIZZA           | $500  |\n",
      "        +---------------------------------+---------+\n",
      "        | B\t\tNEW YORK PIZZA          | $600   |\n",
      "        +---------------------------------+---------+\n",
      "        | C\t\tSICILIAN PIZZA          | $550  |\n",
      "        +---------------------------------+---------+\n",
      "        | D\t\tGREEK PIZZA             | $6500  |\n",
      "        +---------------------------------+---------+\n",
      "        | E\t\tDETROIT PIZZA           | $800  |\n",
      "        +---------------------------------+---------+\n",
      "        | F\t\tCALIFORNIA PIZZA        | $900  |\n",
      "        +---------------------------------+---------+\n",
      "        \n",
      "Total: 230.0\n",
      "Select a letter or 'exit': A\n",
      "Select a letter or 'exit': B\n",
      "Select a letter or 'exit': exit\n",
      "Final total: 1330.0\n",
      "Total: 1330.0\n",
      "Select a Catagory you want or enter 'done': done\n",
      "Final total: 1330.0\n",
      "Thanks for coming\n"
     ]
    }
   ],
   "source": [
    "\"\"\"\n",
    "Write a python program that display the menu of restaurant. Ask the user to\n",
    "choose the item from the menu list and keep choosing until user press N or\n",
    "enter no.\n",
    "If user chose burger category print all the names of burger along with its\n",
    "price assuming user have selected Beef burger ask for the quantity. Then\n",
    "ask again burgers or steaks or exit.\n",
    "\"\"\"\n",
    "\n",
    "\n",
    "the_burger = 16.99;\n",
    "french_fries = 5.99\n",
    "currie_sauce = 19.99\n",
    "napkins_with_chocolates = 10.50\n",
    "juice_box = 89.01\n",
    "takeout = 18.99\n",
    "\n",
    "total = 0.0\n",
    "done= False\n",
    "n=True\n",
    "x=False\n",
    "\n",
    "\n",
    "zinger_burger= 230\n",
    "zinger_cheese_burger=260\n",
    "themas_special_burger= 320\n",
    "beef_burger = 400 \n",
    "tower_burger =350\n",
    "chicken_burger = 180\n",
    "\n",
    "\n",
    "\n",
    "\n",
    "Chicago_Pizza=500\n",
    "New_York_Pizza=600\n",
    "Sicilian_Pizza=550\n",
    "Greek_Pizza=650\n",
    "California_Pizza=800\n",
    "Detroit_Pizza=900\n",
    "\n",
    "\n",
    "\n",
    "\n",
    "print(\"\"\"\n",
    "        +-------------------------------------------+\n",
    "        | The Restaurant at the End of the Universe |\n",
    "        +---------------------------------+---------+\n",
    "        | A\\tThe \"Big Boy\" Burger      | $\"\"\" + str(the_burger) + \"\"\"  |\n",
    "        +---------------------------------+---------+\n",
    "        | B\\tPizza                     | $\"\"\" + str(french_fries) + \"\"\"   |\n",
    "        +---------------------------------+---------+\n",
    "        | C\\tFrench Fries              | $\"\"\" + str(currie_sauce) + \"\"\"  |\n",
    "        +---------------------------------+---------+\n",
    "        | D\\tNapkins with Chocolates   | $\"\"\" + str(napkins_with_chocolates) + str(0) + \"\"\"  |\n",
    "        +---------------------------------+---------+\n",
    "        | E\\tJuice Box                 | $\"\"\" + str(juice_box) + \"\"\"  |\n",
    "        +---------------------------------+---------+\n",
    "        | F\\tTakeout                   | $\"\"\" + str(takeout) + \"\"\"  |\n",
    "        +---------------------------------+---------+\n",
    "        \"\"\")\n",
    "\n",
    "\n",
    "while  done==False:\n",
    "    \n",
    "    Item = input(\"Select a Catagory you want or enter 'done': \");\n",
    "    \n",
    "    \n",
    "    \n",
    "    if Item == \"A\":\n",
    "        \n",
    "        print(\"\"\"\n",
    "        +-------------------------------------------+\n",
    "        | \\t\\t\\tBURGER\\t\\t\\t |\n",
    "        +---------------------------------+---------+\n",
    "        | A\\t\\tZINGER BURGER           | $\"\"\" + str(zinger_burger) + \"\"\"  |\n",
    "        +---------------------------------+---------+\n",
    "        | B\\t\\tZINGER CHEESE BURGER    | $\"\"\" + str(zinger_cheese_burger) + \"\"\"   |\n",
    "        +---------------------------------+---------+\n",
    "        | C\\t\\tTHAMES SPECIAL BURGER   | $\"\"\" + str(themas_special_burger) + \"\"\"  |\n",
    "        +---------------------------------+---------+\n",
    "        | D\\t\\tBEEF BURGER             | $\"\"\" + str(beef_burger) + str(0) + \"\"\"  |\n",
    "        +---------------------------------+---------+\n",
    "        | E\\t\\tTOWER BURGER            | $\"\"\" + str(tower_burger) + \"\"\"  |\n",
    "        +---------------------------------+---------+\n",
    "        | F\\t\\tCHICKEN BURGER          | $\"\"\" + str(chicken_burger) + \"\"\"  |\n",
    "        +---------------------------------+---------+\n",
    "        \"\"\")\n",
    "        while n==True:\n",
    "            Item = input(\"Select a CATAGORY or enter exit : \");\n",
    "            if Item == \"A\":\n",
    "                total += zinger_burger;\n",
    "            elif Item == \"B\":\n",
    "                total += zinger_cheese_burger;\n",
    "            elif Item == \"C\":\n",
    "                total += themas_special_burger;\n",
    "            elif Item == \"D\":\n",
    "                total += beef_burger;\n",
    "            elif Item == \"E\":\n",
    "                total += tower_burger;\n",
    "            elif Item == \"F\":\n",
    "                total += chicken_burger;\n",
    "            elif Item == \"exit\":\n",
    "                print(\"Burger total:\", total);\n",
    "                n=False\n",
    "\n",
    "        \n",
    "        \n",
    "    elif Item == \"B\":\n",
    "        \n",
    "        \n",
    "        print(\"\"\"\n",
    "        +-------------------------------------------+\n",
    "        | \\t\\t\\tPIZZA\\t\\t\\t |\n",
    "        +---------------------------------+---------+\n",
    "        | A\\t\\tCHICAGO PIZZA           | $\"\"\" + str(Chicago_Pizza) + \"\"\"  |\n",
    "        +---------------------------------+---------+\n",
    "        | B\\t\\tNEW YORK PIZZA          | $\"\"\" + str(New_York_Pizza) + \"\"\"   |\n",
    "        +---------------------------------+---------+\n",
    "        | C\\t\\tSICILIAN PIZZA          | $\"\"\" + str(Sicilian_Pizza) + \"\"\"  |\n",
    "        +---------------------------------+---------+\n",
    "        | D\\t\\tGREEK PIZZA             | $\"\"\" + str(Greek_Pizza) + str(0) + \"\"\"  |\n",
    "        +---------------------------------+---------+\n",
    "        | E\\t\\tDETROIT PIZZA           | $\"\"\" + str(California_Pizza) + \"\"\"  |\n",
    "        +---------------------------------+---------+\n",
    "        | F\\t\\tCALIFORNIA PIZZA        | $\"\"\" + str(Detroit_Pizza) + \"\"\"  |\n",
    "        +---------------------------------+---------+\n",
    "        \"\"\")\n",
    "    \n",
    "        print(\"Total:\", total);\n",
    "        while x== False:\n",
    "            Item = input(\"Select a letter or 'exit': \");\n",
    "            if Item == \"A\":\n",
    "                total += Chicago_Pizza\n",
    "            elif Item == \"B\":\n",
    "                total += New_York_Pizza\n",
    "            elif Item == \"C\":\n",
    "                total += Sicilian_Pizza\n",
    "            elif Item == \"D\":\n",
    "                total += Greek_Pizza\n",
    "            elif Item == \"E\":\n",
    "                total += California_Pizza\n",
    "            elif Item == \"F\":\n",
    "                total += Detroit_Pizza\n",
    "            elif Item == \"exit\":\n",
    "                print(\"Pizza total:\", total)\n",
    "                x =True\n",
    "        \n",
    "        \n",
    "        \n",
    "       \n",
    "    elif Item == \"C\":\n",
    "        total += currie_sauce;\n",
    "    elif Item == \"D\":\n",
    "        total += napkins_with_chocolates;\n",
    "    elif Item == \"E\":\n",
    "        total += juice_box;\n",
    "    elif Item == \"F\":\n",
    "        total += takeout;\n",
    "    elif Item == \"done\":\n",
    "        print(\"Final total:\", total);\n",
    "        done =True\n",
    "print (\"Thanks for coming\")\n",
    "\n"
   ]
  },
  {
   "cell_type": "code",
   "execution_count": 2,
   "metadata": {},
   "outputs": [],
   "source": [
    "def foo(x,y):\n",
    "    grid = [[3,4,1,3,1],\n",
    "            [3,3,3,'G',2],\n",
    "            [3,1,2,2,3],\n",
    "            [4,2,3,3,3],\n",
    "            [4,1,4,3,2]]\n",
    "    queue=[]\n",
    "    temp=grid[x][y]\n",
    "    if temp=='G':\n",
    "        print(len(queue))\n",
    "        print(\"Foud\")\n",
    "        return \"Found\"\n",
    "    queue.append(temp)\n",
    "    print(temp)\n",
    "    t1=grid[x][y]\n",
    "    if t1+y>4:\n",
    "        t1=t1%5\n",
    "        foo(t1,y)\n",
    "        \n",
    "    else:\n",
    "        \n",
    "        foo(t1,y)\n",
    "    if t1+x>4:\n",
    "        t1=t1%5\n",
    "        foo(x,t1)\n",
    "    else:\n",
    "        foo(x,t1)"
   ]
  },
  {
   "cell_type": "code",
   "execution_count": 5,
   "metadata": {},
   "outputs": [
    {
     "ename": "IndexError",
     "evalue": "list index out of range",
     "output_type": "error",
     "traceback": [
      "\u001b[0;31m---------------------------------------------------------------------------\u001b[0m",
      "\u001b[0;31mIndexError\u001b[0m                                Traceback (most recent call last)",
      "\u001b[0;32m<ipython-input-5-c8d43cddaa15>\u001b[0m in \u001b[0;36m<module>\u001b[0;34m\u001b[0m\n\u001b[0;32m----> 1\u001b[0;31m \u001b[0ma\u001b[0m \u001b[0;34m=\u001b[0m \u001b[0mfoo\u001b[0m\u001b[0;34m(\u001b[0m\u001b[0;36m1\u001b[0m\u001b[0;34m,\u001b[0m\u001b[0;36m32\u001b[0m\u001b[0;34m)\u001b[0m\u001b[0;34m\u001b[0m\u001b[0;34m\u001b[0m\u001b[0m\n\u001b[0m",
      "\u001b[0;32m<ipython-input-2-c2620752d18d>\u001b[0m in \u001b[0;36mfoo\u001b[0;34m(x, y)\u001b[0m\n\u001b[1;32m      6\u001b[0m             [4,1,4,3,2]]\n\u001b[1;32m      7\u001b[0m     \u001b[0mqueue\u001b[0m\u001b[0;34m=\u001b[0m\u001b[0;34m[\u001b[0m\u001b[0;34m]\u001b[0m\u001b[0;34m\u001b[0m\u001b[0;34m\u001b[0m\u001b[0m\n\u001b[0;32m----> 8\u001b[0;31m     \u001b[0mtemp\u001b[0m\u001b[0;34m=\u001b[0m\u001b[0mgrid\u001b[0m\u001b[0;34m[\u001b[0m\u001b[0mx\u001b[0m\u001b[0;34m]\u001b[0m\u001b[0;34m[\u001b[0m\u001b[0my\u001b[0m\u001b[0;34m]\u001b[0m\u001b[0;34m\u001b[0m\u001b[0;34m\u001b[0m\u001b[0m\n\u001b[0m\u001b[1;32m      9\u001b[0m     \u001b[0;32mif\u001b[0m \u001b[0mtemp\u001b[0m\u001b[0;34m==\u001b[0m\u001b[0;34m'G'\u001b[0m\u001b[0;34m:\u001b[0m\u001b[0;34m\u001b[0m\u001b[0;34m\u001b[0m\u001b[0m\n\u001b[1;32m     10\u001b[0m         \u001b[0mprint\u001b[0m\u001b[0;34m(\u001b[0m\u001b[0mlen\u001b[0m\u001b[0;34m(\u001b[0m\u001b[0mqueue\u001b[0m\u001b[0;34m)\u001b[0m\u001b[0;34m)\u001b[0m\u001b[0;34m\u001b[0m\u001b[0;34m\u001b[0m\u001b[0m\n",
      "\u001b[0;31mIndexError\u001b[0m: list index out of range"
     ]
    }
   ],
   "source": [
    "a = foo(1,32)"
   ]
  },
  {
   "cell_type": "code",
   "execution_count": null,
   "metadata": {},
   "outputs": [],
   "source": []
  }
 ],
 "metadata": {
  "kernelspec": {
   "display_name": "Python 3",
   "language": "python",
   "name": "python3"
  },
  "language_info": {
   "codemirror_mode": {
    "name": "ipython",
    "version": 3
   },
   "file_extension": ".py",
   "mimetype": "text/x-python",
   "name": "python",
   "nbconvert_exporter": "python",
   "pygments_lexer": "ipython3",
   "version": "3.8.3"
  }
 },
 "nbformat": 4,
 "nbformat_minor": 2
}
